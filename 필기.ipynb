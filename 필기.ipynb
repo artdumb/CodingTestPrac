{
 "cells": [
  {
   "cell_type": "markdown",
   "metadata": {},
   "source": [
    "# 슬라이딩윈도우알고리즘\n",
    "### 1522 - 문자열교환\n",
    "### 20437 - 문자열게임2\n",
    "- 슬라이딩윈도우(특정 크기의 윈도우를 만들어 그 크기만큼 검사한다.)\n",
    "- 해당 문제에서는 a,b가 연속되기위해 ₩교환해야하는 횟수에 적용\n",
    "- a의 총개수만큼의 윈도우를 만들어 그 안에 b의 개수가 교환해야하는 개수임\n",
    "- for문으로 순회하며 b의 개수가 가장 적은 값이 정답"
   ]
  },
  {
   "cell_type": "code",
   "execution_count": null,
   "metadata": {},
   "outputs": [],
   "source": [
    "\n",
    "a = list(input())\n",
    "# 1. a,b를 1과0으로\n",
    "a_count = 0\n",
    "for i in range(len(a)):\n",
    "    if a[i] == 'a':\n",
    "        a_count += 1\n",
    "# a의 크기 size만큼의 윈도우 안에 b의 개수가 최소가 되는 값\n",
    "result = int(1e9)\n",
    "for i in range(len(a)):\n",
    "    # 윈도우 내의 b의 개수 확인\n",
    "    b_count = 0\n",
    "    for i in a[0:a_count]:\n",
    "        if i == 'b':\n",
    "            b_count += 1\n",
    "    result = min(result, b_count)\n",
    "\n",
    "    # 리스트 회전\n",
    "    a.append(a.pop(0))\n",
    "\n",
    "print(result)\n"
   ]
  },
  {
   "cell_type": "markdown",
   "metadata": {},
   "source": [
    "# 우선순위 큐로 N번째수구하기\n",
    "\n",
    "### 2075-N번째 큰수\n",
    "- 배열에서 가장 큰값이나 작은값이 아닌 n번째로 큰(작은)값을 검색할 떄 \n",
    "- 우선순위 큐의 크기를 유지하면서 해결한다."
   ]
  },
  {
   "cell_type": "code",
   "execution_count": null,
   "metadata": {},
   "outputs": [],
   "source": [
    "#길이를 유지하면서 큐유지\n",
    "\n",
    "import heapq\n",
    "\n",
    "q = []\n",
    "n = int(input())\n",
    "arr = list(map(int, input().split()))\n",
    "for i in range(n):\n",
    "    heapq.heappush(q, arr[i])\n",
    "\n",
    "for i in range(n-1):\n",
    "    temp = list(map(int, input().split()))\n",
    "    for i in range(n):\n",
    "        #크기를 유지\n",
    "        if temp[i] > q[0]:\n",
    "            heapq.heappop(q)\n",
    "            heapq.heappush(q, temp[i])\n",
    "\n",
    "print(heapq.heappop(q))\n"
   ]
  },
  {
   "cell_type": "markdown",
   "metadata": {},
   "source": []
  }
 ],
 "metadata": {
  "interpreter": {
   "hash": "b0fa6594d8f4cbf19f97940f81e996739fb7646882a419484c72d19e05852a7e"
  },
  "kernelspec": {
   "display_name": "Python 3.9.12 64-bit",
   "language": "python",
   "name": "python3"
  },
  "language_info": {
   "name": "python",
   "version": "3.9.12"
  },
  "orig_nbformat": 4
 },
 "nbformat": 4,
 "nbformat_minor": 2
}
